{
 "cells": [
  {
   "cell_type": "code",
   "execution_count": 1,
   "id": "0d920bd2-8a55-44ff-8db6-80f78425b190",
   "metadata": {},
   "outputs": [
    {
     "name": "stderr",
     "output_type": "stream",
     "text": [
      "Setting default log level to \"WARN\".\n",
      "To adjust logging level use sc.setLogLevel(newLevel). For SparkR, use setLogLevel(newLevel).\n"
     ]
    },
    {
     "name": "stdout",
     "output_type": "stream",
     "text": [
      "22/12/05 17:17:30 WARN NativeCodeLoader: Unable to load native-hadoop library for your platform... using builtin-java classes where applicable\n"
     ]
    },
    {
     "name": "stderr",
     "output_type": "stream",
     "text": [
      "/opt/conda/envs/bigdata-fall22/lib/python3.7/site-packages/pyspark/sql/context.py:159: FutureWarning: Deprecated in 3.0.0. Use SparkSession.builder.getOrCreate() instead.\n",
      "  FutureWarning,\n"
     ]
    }
   ],
   "source": [
    "# initializations & configurations\n",
    "# create spark sessions\n",
    "import os\n",
    "import pyspark\n",
    "from pyspark.sql.functions import *\n",
    "from datetime import datetime\n",
    "\n",
    "conf = pyspark.SparkConf()\n",
    "conf.set('spark.ui.proxyBase', '/user/' + os.environ['JUPYTERHUB_USER'] + '/proxy/4041')\n",
    "conf.set('spark.sql.repl.eagerEval.enabled', True)\n",
    "conf.set('spark.driver.memory','4g')\n",
    "\n",
    "sc = pyspark.SparkContext(conf=conf)\n",
    "spark = pyspark.SQLContext.getOrCreate(sc)"
   ]
  },
  {
   "cell_type": "code",
   "execution_count": 2,
   "id": "a4d4a819-6dc6-4f66-92a2-ab57203775fe",
   "metadata": {},
   "outputs": [
    {
     "name": "stderr",
     "output_type": "stream",
     "text": [
      "                                                                                \r"
     ]
    },
    {
     "name": "stdout",
     "output_type": "stream",
     "text": [
      "+---+--------------------+---+---+---+\n",
      "| id|                text| HS| TR| AG|\n",
      "+---+--------------------+---+---+---+\n",
      "|201|Hurray, saving us...|  1|  0|  0|\n",
      "|202|Why would young f...|  1|  0|  0|\n",
      "|203|@KamalaHarris Ill...|  1|  0|  0|\n",
      "|206|@KurtSchlichter L...|  1|  0|  0|\n",
      "|212|@RealDonaldTrump ...|  1|  0|  1|\n",
      "+---+--------------------+---+---+---+\n",
      "only showing top 5 rows\n",
      "\n"
     ]
    }
   ],
   "source": [
    "# data sanitation\n",
    "df=spark.read.csv(\"dummy.csv\", header=True)\n",
    "df1=df.filter(col('HS')=='1')\n",
    "df2=df.filter(col('HS')=='0')\n",
    "df=df1.union(df2)\n",
    "df.show(5)"
   ]
  },
  {
   "cell_type": "code",
   "execution_count": 3,
   "id": "93fc3f96-c71e-4194-b2fb-7c0a1a0a4acd",
   "metadata": {},
   "outputs": [
    {
     "name": "stderr",
     "output_type": "stream",
     "text": [
      "[Stage 2:>                                                          (0 + 2) / 2]\r"
     ]
    },
    {
     "name": "stdout",
     "output_type": "stream",
     "text": [
      "+---+-----+\n",
      "| HS|count|\n",
      "+---+-----+\n",
      "|  1|  390|\n",
      "|  0|  590|\n",
      "+---+-----+\n",
      "\n"
     ]
    },
    {
     "name": "stderr",
     "output_type": "stream",
     "text": [
      "                                                                                \r"
     ]
    }
   ],
   "source": [
    "# general dataset info\n",
    "df_category=df.groupBy(\"HS\").count().show()"
   ]
  },
  {
   "cell_type": "code",
   "execution_count": 4,
   "id": "1d0a5342-ec31-412a-acbb-893af78faf00",
   "metadata": {},
   "outputs": [
    {
     "name": "stdout",
     "output_type": "stream",
     "text": [
      "+---+--------------------+---+---+---+--------------------+\n",
      "| id|                text| HS| TR| AG|             cleaned|\n",
      "+---+--------------------+---+---+---+--------------------+\n",
      "|201|Hurray, saving us...|  1|  0|  0|hurray saving us ...|\n",
      "|202|Why would young f...|  1|  0|  0|why would young f...|\n",
      "|203|@KamalaHarris Ill...|  1|  0|  0|kamalaharris ille...|\n",
      "|206|@KurtSchlichter L...|  1|  0|  0|kurtschlichter le...|\n",
      "|212|@RealDonaldTrump ...|  1|  0|  1|realdonaldtrump h...|\n",
      "+---+--------------------+---+---+---+--------------------+\n",
      "only showing top 5 rows\n",
      "\n"
     ]
    }
   ],
   "source": [
    "df=df.withColumn('cleaned', regexp_replace(lower(col('text')), '[^a-z0-9\\s]', ''))\n",
    "df.show(5)"
   ]
  },
  {
   "cell_type": "code",
   "execution_count": null,
   "id": "8e97c88f-db36-4ac8-b7b5-024419b0d53e",
   "metadata": {},
   "outputs": [],
   "source": [
    "! pip install yake"
   ]
  },
  {
   "cell_type": "code",
   "execution_count": 5,
   "id": "fb5e24d8-2a82-4683-bca3-9c2981a4a0ea",
   "metadata": {},
   "outputs": [],
   "source": [
    "import yake\n",
    "from pyspark.sql.functions import udf"
   ]
  },
  {
   "cell_type": "code",
   "execution_count": 6,
   "id": "b7c2350b-822e-4505-ac14-d25e2d6a84c3",
   "metadata": {},
   "outputs": [],
   "source": [
    "# keyword extraction\n",
    "\n",
    "language = \"en\"\n",
    "max_ngram_size = 3\n",
    "deduplication_threshold = 0.1\n",
    "numOfKeywords = 8\n",
    "ex=yake.KeywordExtractor(lan=language, n=max_ngram_size, dedupLim=deduplication_threshold, top=numOfKeywords, features=None)\n",
    "\n",
    "def kw_extract(text, model=ex):\n",
    "    keywords = model.extract_keywords(text)\n",
    "    if len(keywords)>3:\n",
    "        keywords=sorted(keywords, key=lambda x:x[1])[:3]\n",
    "        keywords='~'.join([item[0] for item in keywords])\n",
    "        return str(keywords)\n",
    "    else:\n",
    "        keywords='~'.join([item[0] for item in keywords])\n",
    "        return str(keywords)\n",
    "udf_extractor=udf(kw_extract)\n",
    "\n",
    "df=df.withColumn('kw', split(udf_extractor(col('cleaned')), '~')).select('id', 'cleaned', 'kw', 'HS')"
   ]
  },
  {
   "cell_type": "code",
   "execution_count": 7,
   "id": "260cc1f6-459c-4142-b488-677dea4d8f4c",
   "metadata": {},
   "outputs": [
    {
     "name": "stderr",
     "output_type": "stream",
     "text": [
      "[Stage 6:>                                                          (0 + 1) / 1]\r"
     ]
    },
    {
     "name": "stdout",
     "output_type": "stream",
     "text": [
      "+---+--------------------+--------------------+---+\n",
      "| id|             cleaned|                  kw| HS|\n",
      "+---+--------------------+--------------------+---+\n",
      "|201|hurray saving us ...|[enddaca boycottn...|  1|\n",
      "|202|why would young f...|[young fighting a...|  1|\n",
      "|203|kamalaharris ille...|[nodaca noamnesty...|  1|\n",
      "|206|kurtschlichter le...|[kurtschlichter l...|  1|\n",
      "|212|realdonaldtrump h...|[realdonaldtrump ...|  1|\n",
      "|216|lithuania romania...|[lithuania romani...|  1|\n",
      "|217|worldbank reports...|[worldbank report...|  1|\n",
      "|218|rich african coun...|[american countri...|  1|\n",
      "|226|wattersworld jess...|[wattersworld jes...|  1|\n",
      "|228|eus hailed migran...|[eus hailed migra...|  1|\n",
      "|230|ms13 spreads to 2...|[murdersgopleader...|  1|\n",
      "|234|the real truth is...|[real truth, colo...|  1|\n",
      "|236|watch french mayo...|[watch french may...|  1|\n",
      "|239|two children wash...|[barb wired beach...|  1|\n",
      "|241|watch muslim migr...|[watch muslim mig...|  1|\n",
      "|243|islam in europe d...|[african immigran...|  1|\n",
      "|246|amymek passenger ...|[invasion buildth...|  1|\n",
      "|247|this is what the ...|[years brexitnow ...|  1|\n",
      "|250|realjameswoods an...|[arab world rich,...|  1|\n",
      "|256|lets build that w...|[build that wallb...|  1|\n",
      "+---+--------------------+--------------------+---+\n",
      "only showing top 20 rows\n",
      "\n"
     ]
    },
    {
     "name": "stderr",
     "output_type": "stream",
     "text": [
      "                                                                                \r"
     ]
    }
   ],
   "source": [
    "df.show()"
   ]
  },
  {
   "cell_type": "code",
   "execution_count": 12,
   "id": "6dec2d47-2192-48ff-8dfa-bde85baa1504",
   "metadata": {},
   "outputs": [
    {
     "name": "stderr",
     "output_type": "stream",
     "text": [
      "[Stage 28:=============================>                            (1 + 1) / 2]\r"
     ]
    },
    {
     "name": "stdout",
     "output_type": "stream",
     "text": [
      "[Row(kw='back', count=10), Row(kw='dont', count=8), Row(kw='buildthatwall', count=8), Row(kw='trump', count=6), Row(kw='illegal', count=6), Row(kw='kids', count=5), Row(kw='ice', count=5), Row(kw='law', count=5), Row(kw='free speech time', count=5), Row(kw='wall', count=4)]\n"
     ]
    },
    {
     "name": "stderr",
     "output_type": "stream",
     "text": [
      "                                                                                \r"
     ]
    }
   ],
   "source": [
    "# phrase frequency based on categories\n",
    "\n",
    "df1=df.select('kw', 'HS').withColumn('kw', explode(col('kw')))\n",
    "data1=df1.filter(col('HS')=='1').groupBy('kw').count().sort(col('count').desc()).head(10)\n",
    "data0=df1.filter(col('HS')=='0').groupBy('kw').count().sort(col('count').desc()).head(10)"
   ]
  },
  {
   "cell_type": "code",
   "execution_count": 22,
   "id": "c5be974c-cb0f-4a1a-914a-a84130662ce3",
   "metadata": {},
   "outputs": [
    {
     "data": {
      "image/png": "[encoded data removed]",
      "text/plain": [
       "<Figure size 1000x500 with 1 Axes>"
      ]
     },
     "metadata": {},
     "output_type": "display_data"
    }
   ],
   "source": [
    "import matplotlib.pyplot as plt\n",
    "\n",
    "x1, y1=list(zip(*data1))\n",
    "x0, y0=list(zip(*data0))\n",
    "\n",
    "fig = plt.figure(figsize = (10, 5))\n",
    "plt.bar(x1, y1, color ='maroon', width = 0.4)\n",
    "plt.xlabel(\"key phrase\")\n",
    "plt.ylabel(\"frequency\")\n",
    "plt.title(\"top 10 non-hate key words\")\n",
    "plt.show()"
   ]
  },
  {
   "cell_type": "code",
   "execution_count": 8,
   "id": "6195f4b7-a4aa-486e-9982-8d11d43df63a",
   "metadata": {},
   "outputs": [],
   "source": [
    "from pyspark.ml.feature import *"
   ]
  },
  {
   "cell_type": "code",
   "execution_count": 9,
   "id": "45d3a262-f88c-40f4-bc76-7fa459d89be8",
   "metadata": {},
   "outputs": [
    {
     "name": "stderr",
     "output_type": "stream",
     "text": [
      "                                                                                \r"
     ]
    },
    {
     "name": "stdout",
     "output_type": "stream",
     "text": [
      "+--------------------+-------+-----+-------------------+\n",
      "|                  kw|sum(HS)|count|              index|\n",
      "+--------------------+-------+-----+-------------------+\n",
      "|andrewscheer cpch...|    1.0|    1|                1.0|\n",
      "|illegal trespasse...|    1.0|    1|                1.0|\n",
      "|skynews leaveeuof...|    1.0|    1|                1.0|\n",
      "|                 yrs|    0.0|    2|                0.0|\n",
      "|illigal refugees ...|    1.0|    1|                1.0|\n",
      "|  monitordeport visa|    1.0|    1|                1.0|\n",
      "|gift trumpbots bu...|    1.0|    1|                1.0|\n",
      "|eyes peeled promises|    1.0|    1|                1.0|\n",
      "|             arguing|    1.0|    1|                1.0|\n",
      "|open bordersdrain...|    1.0|    1|                1.0|\n",
      "|                 amp|  -12.0|   14|-0.8571428571428571|\n",
      "|tooedit numbersus...|    1.0|    1|                1.0|\n",
      "|         white house|    1.0|    1|                1.0|\n",
      "|      legal migrants|    1.0|    1|                1.0|\n",
      "|illegal buildthat...|    1.0|    1|                1.0|\n",
      "|                shut|    1.0|    1|                1.0|\n",
      "|hollywoodthey wou...|    1.0|    1|                1.0|\n",
      "|target legal immi...|    0.0|    2|                0.0|\n",
      "|stephen millers s...|    1.0|    1|                1.0|\n",
      "|             oakland|    1.0|    1|                1.0|\n",
      "+--------------------+-------+-----+-------------------+\n",
      "only showing top 20 rows\n",
      "\n"
     ]
    }
   ],
   "source": [
    "# word2vec\n",
    "\n",
    "df1=df.select('kw', 'HS').withColumn('kw', explode(col('kw')))\n",
    "df1=df1.withColumn('HS', regexp_replace(col('HS'), '0', '-1').cast('double'))\n",
    "df_tend=df1.groupBy('kw').sum('HS')\n",
    "df_count=df1.groupBy('kw').count()\n",
    "df1=df_tend.join(df_count, 'kw', 'inner').withColumn('index', col('sum(HS)')/(col('count').cast('double')))\n",
    "df1.show()"
   ]
  },
  {
   "cell_type": "code",
   "execution_count": 10,
   "id": "d17032c7-ec8e-45a0-947e-9ad485d51322",
   "metadata": {},
   "outputs": [
    {
     "ename": "IllegalArgumentException",
     "evalue": "requirement failed: Column kw must be of type equal to one of the following types: [array<string>, array<string>] but was actually of type string.",
     "output_type": "error",
     "traceback": [
      "\u001b[0;31m---------------------------------------------------------------------------\u001b[0m",
      "\u001b[0;31mIllegalArgumentException\u001b[0m                  Traceback (most recent call last)",
      "\u001b[0;32m/tmp/ipykernel_70/3628096760.py\u001b[0m in \u001b[0;36m<module>\u001b[0;34m\u001b[0m\n\u001b[1;32m      3\u001b[0m \u001b[0mword2Vec\u001b[0m\u001b[0;34m.\u001b[0m\u001b[0mgetMaxIter\u001b[0m\u001b[0;34m(\u001b[0m\u001b[0;34m)\u001b[0m\u001b[0;34m\u001b[0m\u001b[0;34m\u001b[0m\u001b[0m\n\u001b[1;32m      4\u001b[0m \u001b[0mword2Vec\u001b[0m\u001b[0;34m.\u001b[0m\u001b[0mclear\u001b[0m\u001b[0;34m(\u001b[0m\u001b[0mword2Vec\u001b[0m\u001b[0;34m.\u001b[0m\u001b[0mmaxIter\u001b[0m\u001b[0;34m)\u001b[0m\u001b[0;34m\u001b[0m\u001b[0;34m\u001b[0m\u001b[0m\n\u001b[0;32m----> 5\u001b[0;31m \u001b[0mmodel\u001b[0m \u001b[0;34m=\u001b[0m \u001b[0mword2Vec\u001b[0m\u001b[0;34m.\u001b[0m\u001b[0mfit\u001b[0m\u001b[0;34m(\u001b[0m\u001b[0mdf1\u001b[0m\u001b[0;34m)\u001b[0m\u001b[0;34m\u001b[0m\u001b[0;34m\u001b[0m\u001b[0m\n\u001b[0m\u001b[1;32m      6\u001b[0m \u001b[0mmodel\u001b[0m\u001b[0;34m.\u001b[0m\u001b[0mgetMinCount\u001b[0m\u001b[0;34m(\u001b[0m\u001b[0;34m)\u001b[0m\u001b[0;34m\u001b[0m\u001b[0;34m\u001b[0m\u001b[0m\n\u001b[1;32m      7\u001b[0m \u001b[0mmodel\u001b[0m\u001b[0;34m.\u001b[0m\u001b[0msetInputCol\u001b[0m\u001b[0;34m(\u001b[0m\u001b[0;34m\"kw\"\u001b[0m\u001b[0;34m)\u001b[0m\u001b[0;34m\u001b[0m\u001b[0;34m\u001b[0m\u001b[0m\n",
      "\u001b[0;32m/opt/conda/envs/bigdata-fall22/lib/python3.7/site-packages/pyspark/ml/base.py\u001b[0m in \u001b[0;36mfit\u001b[0;34m(self, dataset, params)\u001b[0m\n\u001b[1;32m    203\u001b[0m                 \u001b[0;32mreturn\u001b[0m \u001b[0mself\u001b[0m\u001b[0;34m.\u001b[0m\u001b[0mcopy\u001b[0m\u001b[0;34m(\u001b[0m\u001b[0mparams\u001b[0m\u001b[0;34m)\u001b[0m\u001b[0;34m.\u001b[0m\u001b[0m_fit\u001b[0m\u001b[0;34m(\u001b[0m\u001b[0mdataset\u001b[0m\u001b[0;34m)\u001b[0m\u001b[0;34m\u001b[0m\u001b[0;34m\u001b[0m\u001b[0m\n\u001b[1;32m    204\u001b[0m             \u001b[0;32melse\u001b[0m\u001b[0;34m:\u001b[0m\u001b[0;34m\u001b[0m\u001b[0;34m\u001b[0m\u001b[0m\n\u001b[0;32m--> 205\u001b[0;31m                 \u001b[0;32mreturn\u001b[0m \u001b[0mself\u001b[0m\u001b[0;34m.\u001b[0m\u001b[0m_fit\u001b[0m\u001b[0;34m(\u001b[0m\u001b[0mdataset\u001b[0m\u001b[0;34m)\u001b[0m\u001b[0;34m\u001b[0m\u001b[0;34m\u001b[0m\u001b[0m\n\u001b[0m\u001b[1;32m    206\u001b[0m         \u001b[0;32melse\u001b[0m\u001b[0;34m:\u001b[0m\u001b[0;34m\u001b[0m\u001b[0;34m\u001b[0m\u001b[0m\n\u001b[1;32m    207\u001b[0m             raise TypeError(\n",
      "\u001b[0;32m/opt/conda/envs/bigdata-fall22/lib/python3.7/site-packages/pyspark/ml/wrapper.py\u001b[0m in \u001b[0;36m_fit\u001b[0;34m(self, dataset)\u001b[0m\n\u001b[1;32m    377\u001b[0m \u001b[0;34m\u001b[0m\u001b[0m\n\u001b[1;32m    378\u001b[0m     \u001b[0;32mdef\u001b[0m \u001b[0m_fit\u001b[0m\u001b[0;34m(\u001b[0m\u001b[0mself\u001b[0m\u001b[0;34m,\u001b[0m \u001b[0mdataset\u001b[0m\u001b[0;34m:\u001b[0m \u001b[0mDataFrame\u001b[0m\u001b[0;34m)\u001b[0m \u001b[0;34m->\u001b[0m \u001b[0mJM\u001b[0m\u001b[0;34m:\u001b[0m\u001b[0;34m\u001b[0m\u001b[0;34m\u001b[0m\u001b[0m\n\u001b[0;32m--> 379\u001b[0;31m         \u001b[0mjava_model\u001b[0m \u001b[0;34m=\u001b[0m \u001b[0mself\u001b[0m\u001b[0;34m.\u001b[0m\u001b[0m_fit_java\u001b[0m\u001b[0;34m(\u001b[0m\u001b[0mdataset\u001b[0m\u001b[0;34m)\u001b[0m\u001b[0;34m\u001b[0m\u001b[0;34m\u001b[0m\u001b[0m\n\u001b[0m\u001b[1;32m    380\u001b[0m         \u001b[0mmodel\u001b[0m \u001b[0;34m=\u001b[0m \u001b[0mself\u001b[0m\u001b[0;34m.\u001b[0m\u001b[0m_create_model\u001b[0m\u001b[0;34m(\u001b[0m\u001b[0mjava_model\u001b[0m\u001b[0;34m)\u001b[0m\u001b[0;34m\u001b[0m\u001b[0;34m\u001b[0m\u001b[0m\n\u001b[1;32m    381\u001b[0m         \u001b[0;32mreturn\u001b[0m \u001b[0mself\u001b[0m\u001b[0;34m.\u001b[0m\u001b[0m_copyValues\u001b[0m\u001b[0;34m(\u001b[0m\u001b[0mmodel\u001b[0m\u001b[0;34m)\u001b[0m\u001b[0;34m\u001b[0m\u001b[0;34m\u001b[0m\u001b[0m\n",
      "\u001b[0;32m/opt/conda/envs/bigdata-fall22/lib/python3.7/site-packages/pyspark/ml/wrapper.py\u001b[0m in \u001b[0;36m_fit_java\u001b[0;34m(self, dataset)\u001b[0m\n\u001b[1;32m    374\u001b[0m \u001b[0;34m\u001b[0m\u001b[0m\n\u001b[1;32m    375\u001b[0m         \u001b[0mself\u001b[0m\u001b[0;34m.\u001b[0m\u001b[0m_transfer_params_to_java\u001b[0m\u001b[0;34m(\u001b[0m\u001b[0;34m)\u001b[0m\u001b[0;34m\u001b[0m\u001b[0;34m\u001b[0m\u001b[0m\n\u001b[0;32m--> 376\u001b[0;31m         \u001b[0;32mreturn\u001b[0m \u001b[0mself\u001b[0m\u001b[0;34m.\u001b[0m\u001b[0m_java_obj\u001b[0m\u001b[0;34m.\u001b[0m\u001b[0mfit\u001b[0m\u001b[0;34m(\u001b[0m\u001b[0mdataset\u001b[0m\u001b[0;34m.\u001b[0m\u001b[0m_jdf\u001b[0m\u001b[0;34m)\u001b[0m\u001b[0;34m\u001b[0m\u001b[0;34m\u001b[0m\u001b[0m\n\u001b[0m\u001b[1;32m    377\u001b[0m \u001b[0;34m\u001b[0m\u001b[0m\n\u001b[1;32m    378\u001b[0m     \u001b[0;32mdef\u001b[0m \u001b[0m_fit\u001b[0m\u001b[0;34m(\u001b[0m\u001b[0mself\u001b[0m\u001b[0;34m,\u001b[0m \u001b[0mdataset\u001b[0m\u001b[0;34m:\u001b[0m \u001b[0mDataFrame\u001b[0m\u001b[0;34m)\u001b[0m \u001b[0;34m->\u001b[0m \u001b[0mJM\u001b[0m\u001b[0;34m:\u001b[0m\u001b[0;34m\u001b[0m\u001b[0;34m\u001b[0m\u001b[0m\n",
      "\u001b[0;32m/opt/conda/envs/bigdata-fall22/lib/python3.7/site-packages/py4j/java_gateway.py\u001b[0m in \u001b[0;36m__call__\u001b[0;34m(self, *args)\u001b[0m\n\u001b[1;32m   1320\u001b[0m         \u001b[0manswer\u001b[0m \u001b[0;34m=\u001b[0m \u001b[0mself\u001b[0m\u001b[0;34m.\u001b[0m\u001b[0mgateway_client\u001b[0m\u001b[0;34m.\u001b[0m\u001b[0msend_command\u001b[0m\u001b[0;34m(\u001b[0m\u001b[0mcommand\u001b[0m\u001b[0;34m)\u001b[0m\u001b[0;34m\u001b[0m\u001b[0;34m\u001b[0m\u001b[0m\n\u001b[1;32m   1321\u001b[0m         return_value = get_return_value(\n\u001b[0;32m-> 1322\u001b[0;31m             answer, self.gateway_client, self.target_id, self.name)\n\u001b[0m\u001b[1;32m   1323\u001b[0m \u001b[0;34m\u001b[0m\u001b[0m\n\u001b[1;32m   1324\u001b[0m         \u001b[0;32mfor\u001b[0m \u001b[0mtemp_arg\u001b[0m \u001b[0;32min\u001b[0m \u001b[0mtemp_args\u001b[0m\u001b[0;34m:\u001b[0m\u001b[0;34m\u001b[0m\u001b[0;34m\u001b[0m\u001b[0m\n",
      "\u001b[0;32m/opt/conda/envs/bigdata-fall22/lib/python3.7/site-packages/pyspark/sql/utils.py\u001b[0m in \u001b[0;36mdeco\u001b[0;34m(*a, **kw)\u001b[0m\n\u001b[1;32m    194\u001b[0m                 \u001b[0;31m# Hide where the exception came from that shows a non-Pythonic\u001b[0m\u001b[0;34m\u001b[0m\u001b[0;34m\u001b[0m\u001b[0;34m\u001b[0m\u001b[0m\n\u001b[1;32m    195\u001b[0m                 \u001b[0;31m# JVM exception message.\u001b[0m\u001b[0;34m\u001b[0m\u001b[0;34m\u001b[0m\u001b[0;34m\u001b[0m\u001b[0m\n\u001b[0;32m--> 196\u001b[0;31m                 \u001b[0;32mraise\u001b[0m \u001b[0mconverted\u001b[0m \u001b[0;32mfrom\u001b[0m \u001b[0;32mNone\u001b[0m\u001b[0;34m\u001b[0m\u001b[0;34m\u001b[0m\u001b[0m\n\u001b[0m\u001b[1;32m    197\u001b[0m             \u001b[0;32melse\u001b[0m\u001b[0;34m:\u001b[0m\u001b[0;34m\u001b[0m\u001b[0;34m\u001b[0m\u001b[0m\n\u001b[1;32m    198\u001b[0m                 \u001b[0;32mraise\u001b[0m\u001b[0;34m\u001b[0m\u001b[0;34m\u001b[0m\u001b[0m\n",
      "\u001b[0;31mIllegalArgumentException\u001b[0m: requirement failed: Column kw must be of type equal to one of the following types: [array<string>, array<string>] but was actually of type string."
     ]
    }
   ],
   "source": [
    "# end of analysis for now\n",
    "\n",
    "word2Vec = Word2Vec(vectorSize=5, seed=42, inputCol=\"kw\", outputCol=\"vector\")\n",
    "word2Vec.setMaxIter(10)\n",
    "word2Vec.getMaxIter()\n",
    "word2Vec.clear(word2Vec.maxIter)\n",
    "model = word2Vec.fit(df1)\n",
    "model.getMinCount()\n",
    "model.setInputCol(\"kw\")\n",
    "model.getVectors().show()"
   ]
  },
  {
   "cell_type": "code",
   "execution_count": 14,
   "id": "85d6e00d-df32-4303-8a9d-64915956d7fd",
   "metadata": {},
   "outputs": [
    {
     "name": "stdout",
     "output_type": "stream",
     "text": [
      "+--------------------+\n",
      "|            sentence|\n",
      "+--------------------+\n",
      "|[a, b, a, b, a, b...|\n",
      "|[a, b, a, b, a, b...|\n",
      "+--------------------+\n",
      "\n",
      "+----+--------------------+\n",
      "|word|              vector|\n",
      "+----+--------------------+\n",
      "|   a|[0.09511678665876...|\n",
      "|   b|[-1.2028766870498...|\n",
      "|   c|[0.30153277516365...|\n",
      "+----+--------------------+\n",
      "\n"
     ]
    }
   ],
   "source": [
    "sent = (\"a b \" * 100 + \"a c \" * 10).split(\" \")\n",
    "doc = spark.createDataFrame([(sent,), (sent,)], [\"sentence\"])\n",
    "doc.show(truncate=True)\n",
    "word2Vec = Word2Vec(vectorSize=5, seed=42, inputCol=\"sentence\", outputCol=\"model\")\n",
    "word2Vec.setMaxIter(10)\n",
    "\n",
    "word2Vec.getMaxIter()\n",
    "\n",
    "word2Vec.clear(word2Vec.maxIter)\n",
    "model = word2Vec.fit(doc)\n",
    "model.getMinCount()\n",
    "\n",
    "model.setInputCol(\"sentence\")\n",
    "\n",
    "model.getVectors().show()\n"
   ]
  },
  {
   "cell_type": "code",
   "execution_count": null,
   "id": "9b658f2f-b3bb-428c-9c0d-1e7de0ccd980",
   "metadata": {},
   "outputs": [],
   "source": []
  }
 ],
 "metadata": {
  "kernelspec": {
   "display_name": "Python [conda env:bigdata-fall22]",
   "language": "python",
   "name": "conda-env-bigdata-fall22-py"
  },
  "language_info": {
   "codemirror_mode": {
    "name": "ipython",
    "version": 3
   },
   "file_extension": ".py",
   "mimetype": "text/x-python",
   "name": "python",
   "nbconvert_exporter": "python",
   "pygments_lexer": "ipython3",
   "version": "3.7.12"
  }
 },
 "nbformat": 4,
 "nbformat_minor": 5
}
