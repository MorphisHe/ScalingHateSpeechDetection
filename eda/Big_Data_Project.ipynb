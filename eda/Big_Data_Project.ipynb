{
  "cells": [
    {
      "cell_type": "markdown",
      "metadata": {
        "id": "duIv-e7cz6pW"
      },
      "source": [
        "# Big Data Project: Data Exploration"
      ]
    },
    {
      "cell_type": "code",
      "source": [
        "import os\n",
        "import pyspark\n",
        "import pyspark.sql.functions as func\n",
        "\n",
        "conf = pyspark.SparkConf()\n",
        "conf.set(\"spark.sql.repl.eagerEval.enabled\", True)\n",
        "conf.set(\"spark.driver.memory\", \"4g\")\n",
        "\n",
        "import sys \n",
        "os.environ[\"PYSPARK_PYTHON\"] = sys.executable \n",
        "os.environ[\"PYSPARK_DRIVER_PYTHON\"] = sys.executable\n",
        "\n",
        "sc = pyspark.SparkContext(conf=conf)\n",
        "spark = pyspark.SQLContext.getOrCreate(sc)"
      ],
      "metadata": {
        "colab": {
          "base_uri": "https://localhost:8080/"
        },
        "id": "11EnSJELGD_d",
        "outputId": "fb777554-1110-4317-ad98-35397dc90ffa"
      },
      "execution_count": null,
      "outputs": [
        {
          "output_type": "stream",
          "name": "stderr",
          "text": [
            "/usr/local/lib/python3.8/dist-packages/pyspark/sql/context.py:157: FutureWarning: Deprecated in 3.0.0. Use SparkSession.builder.getOrCreate() instead.\n",
            "  warnings.warn(\n"
          ]
        }
      ]
    },
    {
      "cell_type": "markdown",
      "source": [
        "### **Load data**"
      ],
      "metadata": {
        "id": "si0R5KhjFh0F"
      }
    },
    {
      "cell_type": "code",
      "source": [
        "data_path = \"train.csv\"\n",
        "df = spark.read.option(\"header\", True).option(\"inferSchema\", True).csv(data_path)\n",
        "\n",
        "print(f\"Loaded {df.count():,.0f} entries..\")\n",
        "df.printSchema()"
      ],
      "metadata": {
        "colab": {
          "base_uri": "https://localhost:8080/"
        },
        "id": "GrFGJLLuFEll",
        "outputId": "ad3167a0-83d0-420a-c4fe-7c364e706389"
      },
      "execution_count": null,
      "outputs": [
        {
          "output_type": "stream",
          "name": "stdout",
          "text": [
            "Loaded 31,962 entries..\n",
            "root\n",
            " |-- id: integer (nullable = true)\n",
            " |-- label: integer (nullable = true)\n",
            " |-- tweet: string (nullable = true)\n",
            "\n"
          ]
        }
      ]
    },
    {
      "cell_type": "markdown",
      "source": [
        "### **Preprocessing**"
      ],
      "metadata": {
        "id": "Mo8r3e6cHOz-"
      }
    },
    {
      "cell_type": "markdown",
      "source": [
        "Simple preprocessing to remove characters outside of `[0-9a-zA-Z]` in each tweet. "
      ],
      "metadata": {
        "id": "AGwjoZfbHQPJ"
      }
    },
    {
      "cell_type": "code",
      "source": [
        "import re\n",
        "import pyspark.sql.functions as F"
      ],
      "metadata": {
        "id": "sWhhBe8CHP20"
      },
      "execution_count": null,
      "outputs": []
    },
    {
      "cell_type": "code",
      "source": [
        "df = df.withColumn(\"tweet_clean\", F.udf(lambda x: re.sub(r\"[^0-9a-zA-Z]\", \" \", x.lower()))(\"tweet\"))\n",
        "df.show()"
      ],
      "metadata": {
        "colab": {
          "base_uri": "https://localhost:8080/"
        },
        "id": "qAyEb3T2HYvV",
        "outputId": "0be92d9b-e9aa-429d-d63f-8d86796da855"
      },
      "execution_count": null,
      "outputs": [
        {
          "output_type": "stream",
          "name": "stdout",
          "text": [
            "+---+-----+--------------------+--------------------+\n",
            "| id|label|               tweet|         tweet_clean|\n",
            "+---+-----+--------------------+--------------------+\n",
            "|  1|    0| @user when a fat...|  user when a fat...|\n",
            "|  2|    0|@user @user thank...| user  user thank...|\n",
            "|  3|    0|  bihday your maj...|  bihday your maj...|\n",
            "|  4|    0|#model   i love u...| model   i love u...|\n",
            "|  5|    0| factsguide: soci...| factsguide  soci...|\n",
            "|  6|    0|[2/2] huge fan fa...| 2 2  huge fan fa...|\n",
            "|  7|    0| @user camping to...|  user camping to...|\n",
            "|  8|    0|the next school y...|the next school y...|\n",
            "|  9|    0|we won!!! love th...|we won    love th...|\n",
            "| 10|    0| @user @user welc...|  user  user welc...|\n",
            "| 11|    0| â #ireland con...|      ireland con...|\n",
            "| 12|    0|we are so selfish...|we are so selfish...|\n",
            "| 13|    0|i get to see my d...|i get to see my d...|\n",
            "| 14|    1|@user #cnn calls ...| user  cnn calls ...|\n",
            "| 15|    1|no comment!  in #...|no comment   in  ...|\n",
            "| 16|    0|ouch...junior is ...|ouch   junior is ...|\n",
            "| 17|    0|i am thankful for...|i am thankful for...|\n",
            "| 18|    1|retweet if you ag...|retweet if you ag...|\n",
            "| 19|    0|its #friday! ð...|its  friday      ...|\n",
            "| 20|    0|as we all know, e...|as we all know  e...|\n",
            "+---+-----+--------------------+--------------------+\n",
            "only showing top 20 rows\n",
            "\n"
          ]
        }
      ]
    },
    {
      "cell_type": "code",
      "source": [
        "from IPython.display import Markdown, display\n",
        "def printmd(string):\n",
        "    display(Markdown(string))"
      ],
      "metadata": {
        "id": "3xmk6oT-VtPh"
      },
      "execution_count": null,
      "outputs": []
    },
    {
      "cell_type": "markdown",
      "source": [
        "### **Visualize tweets**"
      ],
      "metadata": {
        "id": "RYXFZAplHFAA"
      }
    },
    {
      "cell_type": "markdown",
      "source": [
        "Investigate the tweet data:\n",
        "\n",
        "\n",
        "*   Size of inputs (average size, distribution of sizes)\n",
        "*   Any outliers\n"
      ],
      "metadata": {
        "id": "Ck_233g1HHXU"
      }
    },
    {
      "cell_type": "markdown",
      "source": [
        "#### **Measure size of tweet**"
      ],
      "metadata": {
        "id": "7NmMFdqPMVmI"
      }
    },
    {
      "cell_type": "code",
      "source": [
        "import pyspark.sql.types as sparktypes"
      ],
      "metadata": {
        "id": "66tcoSndNKgY"
      },
      "execution_count": null,
      "outputs": []
    },
    {
      "cell_type": "code",
      "source": [
        "df = df.withColumn(\"len_tweet\", F.udf(lambda x: len(x.split(\" \")), returnType=sparktypes.IntegerType())(\"tweet\"))\n",
        "df = df.withColumn(\"len_tweet_clean\", F.udf(lambda x: len(x.split(\" \")), returnType=sparktypes.IntegerType())(\"tweet_clean\"))\n",
        "\n",
        "df.show()"
      ],
      "metadata": {
        "colab": {
          "base_uri": "https://localhost:8080/"
        },
        "id": "MNnCwZ8nG1h8",
        "outputId": "f44afd7a-02f7-43f9-fac3-34e6bde59595"
      },
      "execution_count": null,
      "outputs": [
        {
          "output_type": "stream",
          "name": "stdout",
          "text": [
            "+---+-----+--------------------+--------------------+---------+---------------+\n",
            "| id|label|               tweet|         tweet_clean|len_tweet|len_tweet_clean|\n",
            "+---+-----+--------------------+--------------------+---------+---------------+\n",
            "|  1|    0| @user when a fat...|  user when a fat...|       21|             24|\n",
            "|  2|    0|@user @user thank...| user  user thank...|       22|             30|\n",
            "|  3|    0|  bihday your maj...|  bihday your maj...|        5|              5|\n",
            "|  4|    0|#model   i love u...| model   i love u...|       17|             53|\n",
            "|  5|    0| factsguide: soci...| factsguide  soci...|        8|             10|\n",
            "|  6|    0|[2/2] huge fan fa...| 2 2  huge fan fa...|       21|             27|\n",
            "|  7|    0| @user camping to...|  user camping to...|       12|             23|\n",
            "|  8|    0|the next school y...|the next school y...|       23|             40|\n",
            "|  9|    0|we won!!! love th...|we won    love th...|       13|             27|\n",
            "| 10|    0| @user @user welc...|  user  user welc...|       15|             22|\n",
            "| 11|    0| â #ireland con...|      ireland con...|       21|             35|\n",
            "| 12|    0|we are so selfish...|we are so selfish...|       16|             27|\n",
            "| 13|    0|i get to see my d...|i get to see my d...|       11|             15|\n",
            "| 14|    1|@user #cnn calls ...| user  cnn calls ...|       14|             22|\n",
            "| 15|    1|no comment!  in #...|no comment   in  ...|       13|             20|\n",
            "| 16|    0|ouch...junior is ...|ouch   junior is ...|        9|             20|\n",
            "| 17|    0|i am thankful for...|i am thankful for...|       14|             17|\n",
            "| 18|    1|retweet if you ag...|retweet if you ag...|        5|              6|\n",
            "| 19|    0|its #friday! ð...|its  friday      ...|       16|             25|\n",
            "| 20|    0|as we all know, e...|as we all know  e...|       12|             14|\n",
            "+---+-----+--------------------+--------------------+---------+---------------+\n",
            "only showing top 20 rows\n",
            "\n"
          ]
        }
      ]
    },
    {
      "cell_type": "code",
      "source": [
        "df.printSchema()"
      ],
      "metadata": {
        "colab": {
          "base_uri": "https://localhost:8080/"
        },
        "id": "ljdQrjv8NBAZ",
        "outputId": "3d14b3fe-7862-4eef-f729-f8a064bcc643"
      },
      "execution_count": null,
      "outputs": [
        {
          "output_type": "stream",
          "name": "stdout",
          "text": [
            "root\n",
            " |-- id: integer (nullable = true)\n",
            " |-- label: integer (nullable = true)\n",
            " |-- tweet: string (nullable = true)\n",
            " |-- tweet_clean: string (nullable = true)\n",
            " |-- len_tweet: integer (nullable = true)\n",
            " |-- len_tweet_clean: integer (nullable = true)\n",
            "\n"
          ]
        }
      ]
    },
    {
      "cell_type": "code",
      "source": [
        "printmd(\"**Statistics of tweet lengths (with and without processing)**\")\n",
        "\n",
        "df.agg({'len_tweet': 'avg',\n",
        "        'len_tweet_clean': 'avg'}).show()\n",
        "\n",
        "df.agg({'len_tweet': 'min',\n",
        "        'len_tweet_clean': 'min'}).show()\n",
        "\n",
        "df.agg({'len_tweet': 'max',\n",
        "        'len_tweet_clean': 'max'}).show()"
      ],
      "metadata": {
        "colab": {
          "base_uri": "https://localhost:8080/",
          "height": 359
        },
        "id": "53W4SIXMNvdg",
        "outputId": "6e7c492b-a9ba-4391-cbd9-8d62e41ccebd"
      },
      "execution_count": null,
      "outputs": [
        {
          "output_type": "display_data",
          "data": {
            "text/plain": [
              "<IPython.core.display.Markdown object>"
            ],
            "text/markdown": "**Statistics of tweet lengths (with and without processing)**"
          },
          "metadata": {}
        },
        {
          "output_type": "stream",
          "name": "stdout",
          "text": [
            "+--------------------+-----------------+\n",
            "|avg(len_tweet_clean)|   avg(len_tweet)|\n",
            "+--------------------+-----------------+\n",
            "|  24.696577185407673|16.00484950879169|\n",
            "+--------------------+-----------------+\n",
            "\n",
            "+--------------------+--------------+\n",
            "|min(len_tweet_clean)|min(len_tweet)|\n",
            "+--------------------+--------------+\n",
            "|                   4|             1|\n",
            "+--------------------+--------------+\n",
            "\n",
            "+--------------------+--------------+\n",
            "|max(len_tweet_clean)|max(len_tweet)|\n",
            "+--------------------+--------------+\n",
            "|                 224|            43|\n",
            "+--------------------+--------------+\n",
            "\n"
          ]
        }
      ]
    },
    {
      "cell_type": "code",
      "source": [
        "from pyspark_dist_explore import hist\n",
        "import matplotlib.pyplot as plt\n",
        "\n",
        "fig, ax = plt.subplots(1, 2, figsize=(15,7), sharex=True)\n",
        "hist(ax[0], df.select('len_tweet'), bins = 20, color=['blue']);\n",
        "hist(ax[1], df.select('len_tweet_clean'), bins = 20, color=['blue']);\n",
        "\n",
        "ax[0].set_title(\"Length of Original Tweet\");\n",
        "ax[1].set_title(\"Length of Cleaned Tweet\");"
      ],
      "metadata": {
        "colab": {
          "base_uri": "https://localhost:8080/",
          "height": 444
        },
        "id": "yQpFFNvGMsRT",
        "outputId": "caf5d9d0-9a37-4080-b58c-456c6a644c79"
      },
      "execution_count": null,
      "outputs": [
        {
          "output_type": "display_data",
          "data": {
            "text/plain": [
              "<Figure size 1080x504 with 2 Axes>"
            ],
            "image/png": "[encoded data removed]"
          },
          "metadata": {
            "needs_background": "light"
          }
        }
      ]
    },
    {
      "cell_type": "markdown",
      "source": [
        "#### **Repeat for each class**"
      ],
      "metadata": {
        "id": "mYaP0_uXRhlR"
      }
    },
    {
      "cell_type": "markdown",
      "source": [
        "Label '1' denotes the tweet is racist/sexist and label '0' denotes the tweet is not racist/sexist.\n",
        "\n"
      ],
      "metadata": {
        "id": "ZglKCS-0QrK2"
      }
    },
    {
      "cell_type": "code",
      "source": [
        "fig, ax = plt.subplots(1, 2, figsize=(15,7), sharex=True)\n",
        "\n",
        "df_0 = df.select(['len_tweet_clean', 'label']).where(df.label == 0)\n",
        "df_1 = df.select(['len_tweet_clean', 'label']).where(df.label == 1)\n",
        "\n",
        "hist(ax[0], df_0.select('len_tweet_clean'), bins = 20, color=['blue']);\n",
        "hist(ax[1], df_1.select('len_tweet_clean'), bins = 20, color=['blue']);\n",
        "\n",
        "ax[0].set_title(f\"Length of (Cleaned) Tweets WITHOUT Hate Speech (n={df_0.count():,.0f})\");\n",
        "ax[1].set_title(f\"Length of (Cleaned) Tweet WITH Hate Speech (n={df_1.count():,.0f})\");"
      ],
      "metadata": {
        "colab": {
          "base_uri": "https://localhost:8080/",
          "height": 444
        },
        "id": "PzXSr8DCNaKY",
        "outputId": "25d5fba7-0f59-456f-c86b-19b9f10b4b9f"
      },
      "execution_count": null,
      "outputs": [
        {
          "output_type": "display_data",
          "data": {
            "text/plain": [
              "<Figure size 1080x504 with 2 Axes>"
            ],
            "image/png": "[encoded data removed]"
          },
          "metadata": {
            "needs_background": "light"
          }
        }
      ]
    },
    {
      "cell_type": "code",
      "source": [
        "printmd(\"**Regular speech statistics**\")\n",
        "\n",
        "df_0.agg({'len_tweet_clean': 'avg'}).show()\n",
        "df_0.agg({'len_tweet_clean': 'min'}).show()\n",
        "df_0.agg({'len_tweet_clean': 'max'}).show()"
      ],
      "metadata": {
        "colab": {
          "base_uri": "https://localhost:8080/",
          "height": 359
        },
        "id": "cUNywhsiRCll",
        "outputId": "d474253e-dbb4-4e77-c47f-4c979bb66cf8"
      },
      "execution_count": null,
      "outputs": [
        {
          "output_type": "display_data",
          "data": {
            "text/plain": [
              "<IPython.core.display.Markdown object>"
            ],
            "text/markdown": "**Regular speech statistics** \n"
          },
          "metadata": {}
        },
        {
          "output_type": "stream",
          "name": "stdout",
          "text": [
            "+--------------------+\n",
            "|avg(len_tweet_clean)|\n",
            "+--------------------+\n",
            "|  24.810060565275908|\n",
            "+--------------------+\n",
            "\n",
            "+--------------------+\n",
            "|min(len_tweet_clean)|\n",
            "+--------------------+\n",
            "|                   4|\n",
            "+--------------------+\n",
            "\n",
            "+--------------------+\n",
            "|max(len_tweet_clean)|\n",
            "+--------------------+\n",
            "|                 224|\n",
            "+--------------------+\n",
            "\n"
          ]
        }
      ]
    },
    {
      "cell_type": "code",
      "source": [
        "printmd(\"**Hate speech statistics**\")\n",
        "\n",
        "df_1.agg({'len_tweet_clean': 'avg'}).show()\n",
        "df_1.agg({'len_tweet_clean': 'min'}).show()\n",
        "df_1.agg({'len_tweet_clean': 'max'}).show()"
      ],
      "metadata": {
        "colab": {
          "base_uri": "https://localhost:8080/",
          "height": 359
        },
        "id": "A2Gg6hwDSBus",
        "outputId": "719de377-db56-416e-b445-be5ef734113c"
      },
      "execution_count": null,
      "outputs": [
        {
          "output_type": "display_data",
          "data": {
            "text/plain": [
              "<IPython.core.display.Markdown object>"
            ],
            "text/markdown": "**Hate speech statistics**"
          },
          "metadata": {}
        },
        {
          "output_type": "stream",
          "name": "stdout",
          "text": [
            "+--------------------+\n",
            "|avg(len_tweet_clean)|\n",
            "+--------------------+\n",
            "|  23.192239072256914|\n",
            "+--------------------+\n",
            "\n",
            "+--------------------+\n",
            "|min(len_tweet_clean)|\n",
            "+--------------------+\n",
            "|                   4|\n",
            "+--------------------+\n",
            "\n",
            "+--------------------+\n",
            "|max(len_tweet_clean)|\n",
            "+--------------------+\n",
            "|                  91|\n",
            "+--------------------+\n",
            "\n"
          ]
        }
      ]
    },
    {
      "cell_type": "code",
      "source": [
        "print(\"Median tweet length of all data: \" + str(df.approxQuantile('len_tweet_clean',[0.5],0.1)[0]))\n",
        "print(\"Median tweet length of NOT hate data: \" + str(df_0.approxQuantile('len_tweet_clean',[0.5],0.1)[0]))\n",
        "print(\"Median tweet length of hate data: \" + str(df_1.approxQuantile('len_tweet_clean',[0.5],0.1)[0]))"
      ],
      "metadata": {
        "colab": {
          "base_uri": "https://localhost:8080/"
        },
        "id": "ovQSm7eiSEF7",
        "outputId": "2b269fe9-dced-4263-c764-6eb1fbbd79ff"
      },
      "execution_count": null,
      "outputs": [
        {
          "output_type": "stream",
          "name": "stdout",
          "text": [
            "Median tweet length of all data: 22.0\n",
            "Median tweet length of NOT hate data: 22.0\n",
            "Median tweet length of hate data: 21.0\n"
          ]
        }
      ]
    }
  ],
  "metadata": {
    "colab": {
      "provenance": [],
      "toc_visible": true
    },
    "kernelspec": {
      "display_name": "Python 3",
      "language": "python",
      "name": "python3"
    },
    "language_info": {
      "codemirror_mode": {
        "name": "ipython",
        "version": 3
      },
      "file_extension": ".py",
      "mimetype": "text/x-python",
      "name": "python",
      "nbconvert_exporter": "python",
      "pygments_lexer": "ipython3",
      "version": "3.6.5"
    },
    "vscode": {
      "interpreter": {
        "hash": "31f2aee4e71d21fbe5cf8b01ff0e069b9275f58929596ceb00d14d90e3e16cd6"
      }
    }
  },
  "nbformat": 4,
  "nbformat_minor": 0
}